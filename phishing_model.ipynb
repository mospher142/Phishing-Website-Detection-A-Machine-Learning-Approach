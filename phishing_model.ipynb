{
 "cells": [
  {
   "cell_type": "markdown",
   "id": "234d5322-6694-4d21-93f1-078688997062",
   "metadata": {},
   "source": [
    "### Libraries"
   ]
  },
  {
   "cell_type": "code",
   "execution_count": 112,
   "id": "7d5f8528-6bb2-4fe1-8f08-cbd93860c8bc",
   "metadata": {},
   "outputs": [],
   "source": [
    "import pandas as pd\n",
    "import numpy as np\n",
    "import matplotlib.pyplot as plt\n",
    "import seaborn as sns\n",
    "\n",
    "from sklearn.metrics import classification_report, confusion_matrix , accuracy_score , precision_score , recall_score , f1_score\n",
    "\n",
    "from sklearn.pipeline import Pipeline\n",
    "\n",
    "from sklearn.feature_selection import mutual_info_regression, SelectPercentile, chi2, f_classif, SelectKBest\n",
    "\n",
    "from sklearn.preprocessing import LabelBinarizer\n",
    "from sklearn.preprocessing import StandardScaler,MinMaxScaler\n",
    "\n",
    "from sklearn.experimental import enable_halving_search_cv\n",
    "\n",
    "from sklearn.model_selection import GridSearchCV\n",
    "from sklearn.model_selection import cross_val_score, KFold\n",
    "from sklearn.model_selection import train_test_split\n",
    "\n",
    "from sklearn.utils import shuffle\n",
    "\n",
    "from sklearn.svm import SVC\n",
    "from sklearn.naive_bayes import GaussianNB\n",
    "from sklearn.tree import DecisionTreeClassifier\n",
    "from sklearn.ensemble import RandomForestClassifier\n",
    "from sklearn.linear_model import LogisticRegression"
   ]
  },
  {
   "cell_type": "code",
   "execution_count": 113,
   "id": "9806d29e-53c5-4dd3-b0b1-45d2e0e27596",
   "metadata": {},
   "outputs": [],
   "source": [
    "from joblib import Parallel, delayed"
   ]
  },
  {
   "cell_type": "code",
   "execution_count": 114,
   "id": "1a07a5fb-2a37-426a-8196-374f9eadaf43",
   "metadata": {},
   "outputs": [],
   "source": [
    "import joblib"
   ]
  },
  {
   "cell_type": "markdown",
   "id": "27d2afec-1908-4ed8-85d5-3070f00a42a5",
   "metadata": {},
   "source": [
    "### Import Dataset"
   ]
  },
  {
   "cell_type": "code",
   "execution_count": 115,
   "id": "525d24b6-54a5-42b0-83c5-ce95b44535d3",
   "metadata": {},
   "outputs": [],
   "source": [
    "# import the csv\n",
    "model_train = pd.read_csv('dataset_B_05_2020.csv')"
   ]
  },
  {
   "cell_type": "code",
   "execution_count": 116,
   "id": "b9fe1392-b80a-4867-990a-bd603bfe29d2",
   "metadata": {},
   "outputs": [
    {
     "data": {
      "text/plain": [
       "url                0\n",
       "length_url         0\n",
       "length_hostname    0\n",
       "ip                 0\n",
       "nb_dots            0\n",
       "                  ..\n",
       "web_traffic        0\n",
       "dns_record         0\n",
       "google_index       0\n",
       "page_rank          0\n",
       "status             0\n",
       "Length: 89, dtype: int64"
      ]
     },
     "execution_count": 116,
     "metadata": {},
     "output_type": "execute_result"
    }
   ],
   "source": [
    "model_train.isnull().sum()"
   ]
  },
  {
   "cell_type": "markdown",
   "id": "26daf9a7-66ac-4914-9b62-518abaae95c1",
   "metadata": {},
   "source": [
    "### Feature Engineering"
   ]
  },
  {
   "cell_type": "code",
   "execution_count": 117,
   "id": "93e0ecac-d555-45fb-93a7-8403b31f24ef",
   "metadata": {},
   "outputs": [],
   "source": [
    "model_train['total_special_chars'] = model_train[['nb_dots', 'nb_hyphens', 'nb_at', 'nb_qm', 'nb_and', 'nb_or', 'nb_eq', \n",
    "                                                  'nb_underscore', 'nb_tilde', 'nb_percent', 'nb_slash', 'nb_star', \n",
    "                                                  'nb_colon', 'nb_comma', 'nb_semicolumn', 'nb_dollar', 'nb_space']].sum(axis=1)"
   ]
  },
  {
   "cell_type": "code",
   "execution_count": 118,
   "id": "67fd4d2f-fc7b-481e-9e80-e8f184529fa2",
   "metadata": {},
   "outputs": [],
   "source": [
    "model_train['sum_common_terms'] = model_train['nb_www'] + model_train['nb_com'] + model_train['nb_dslash'] + model_train['http_in_path']"
   ]
  },
  {
   "cell_type": "markdown",
   "id": "4d056faa-18a9-4525-aa35-8d754c217b4c",
   "metadata": {},
   "source": [
    "### Encoding"
   ]
  },
  {
   "cell_type": "code",
   "execution_count": 119,
   "id": "7e60e190-ad42-40de-8c1d-f40fc35ceaf7",
   "metadata": {},
   "outputs": [],
   "source": [
    "lb = LabelBinarizer()"
   ]
  },
  {
   "cell_type": "code",
   "execution_count": 120,
   "id": "c91a05f6-d7a7-4e59-b4bf-05b48c445808",
   "metadata": {},
   "outputs": [],
   "source": [
    "# Transform status column to binary labels\n",
    "model_train['status'] = lb.fit_transform(model_train['status'])"
   ]
  },
  {
   "cell_type": "markdown",
   "id": "db7df13f-0f0d-4970-9ee2-ebd490949af4",
   "metadata": {},
   "source": [
    "### Select Numerical Features"
   ]
  },
  {
   "cell_type": "code",
   "execution_count": 121,
   "id": "a3f55f45-aa99-408a-8155-9e51bd982bc0",
   "metadata": {},
   "outputs": [],
   "source": [
    "numerical_features = model_train.select_dtypes(include=np.number).columns.tolist()"
   ]
  },
  {
   "cell_type": "code",
   "execution_count": 122,
   "id": "720f3af1-7580-4ad2-9852-d717bc868d04",
   "metadata": {},
   "outputs": [
    {
     "data": {
      "text/plain": [
       "'sum_common_terms'"
      ]
     },
     "execution_count": 122,
     "metadata": {},
     "output_type": "execute_result"
    }
   ],
   "source": [
    "numerical_features.pop(-1)"
   ]
  },
  {
   "cell_type": "markdown",
   "id": "278c8356-3974-456a-91fe-24ac51383894",
   "metadata": {},
   "source": [
    "### Scale"
   ]
  },
  {
   "cell_type": "code",
   "execution_count": 123,
   "id": "3aa1c883-eaa8-4545-8df6-081791665769",
   "metadata": {},
   "outputs": [],
   "source": [
    "# Create a StandardScaler object\n",
    "scaler = StandardScaler()\n",
    "scaler.fit(model_train[numerical_features])\n",
    "scaled_features = scaler.transform(model_train[numerical_features])"
   ]
  },
  {
   "cell_type": "code",
   "execution_count": 124,
   "id": "44a784c2-00b1-4c04-bb82-d71330da45fc",
   "metadata": {},
   "outputs": [
    {
     "data": {
      "text/plain": [
       "['scaler.joblib']"
      ]
     },
     "execution_count": 124,
     "metadata": {},
     "output_type": "execute_result"
    }
   ],
   "source": [
    "joblib.dump(scaler, 'scaler.joblib')"
   ]
  },
  {
   "cell_type": "code",
   "execution_count": 125,
   "id": "3049ea78-2a36-4787-ac80-132942842206",
   "metadata": {},
   "outputs": [],
   "source": [
    "model_train[numerical_features] = scaled_features"
   ]
  },
  {
   "cell_type": "markdown",
   "id": "496b4781-d968-4049-bab5-223d4aaf998c",
   "metadata": {
    "jp-MarkdownHeadingCollapsed": true,
    "tags": []
   },
   "source": [
    "### Correlation"
   ]
  },
  {
   "cell_type": "code",
   "execution_count": 126,
   "id": "174b4809-0013-4b35-916b-cdd8d0771144",
   "metadata": {},
   "outputs": [],
   "source": [
    "corr_matrix = model_train.corr()"
   ]
  },
  {
   "cell_type": "markdown",
   "id": "0a9fcb0c-0170-4174-a2d2-8d6ed0eb9014",
   "metadata": {},
   "source": [
    "# Create a figure and axis object\n",
    "fig, ax = plt.subplots(figsize=(20,20))\n",
    "\n",
    "# Create heatmap\n",
    "sns.heatmap(corr_matrix, annot=False, ax=ax)\n",
    "\n",
    "# Rotate x-axis labels for readability\n",
    "plt.xticks(rotation=90)\n",
    "\n",
    "# Show plot\n",
    "plt.show()"
   ]
  },
  {
   "cell_type": "markdown",
   "id": "3aa72517-393e-4f17-9d14-b45ae70dfd09",
   "metadata": {},
   "source": [
    "### Split into Train and Test"
   ]
  },
  {
   "cell_type": "code",
   "execution_count": 127,
   "id": "ca74bcab-7e15-4b77-8252-8435943768b7",
   "metadata": {},
   "outputs": [],
   "source": [
    "X = model_train.drop(['url', 'status'], axis=1)\n",
    "y = model_train['status']"
   ]
  },
  {
   "cell_type": "code",
   "execution_count": 128,
   "id": "66fde706-3cf5-4f20-9af7-3276edc1e2e2",
   "metadata": {},
   "outputs": [],
   "source": [
    "X_train, X_valid, y_train, y_valid = train_test_split(X, y, test_size=0.2, random_state=3, shuffle=True)"
   ]
  },
  {
   "cell_type": "markdown",
   "id": "76fb8642-138d-4795-88a6-287796513872",
   "metadata": {},
   "source": [
    "### MODEL CLASS"
   ]
  },
  {
   "cell_type": "code",
   "execution_count": 219,
   "id": "adfc93c6-ff3b-4486-a7b2-287cc82090f1",
   "metadata": {},
   "outputs": [],
   "source": [
    "class ModelTester:\n",
    "    def __init__(self, X_train, y_train, cv=KFold(n_splits=5, shuffle=True, random_state=3)):\n",
    "        self.X_train = X_train\n",
    "        self.y_train = y_train\n",
    "        self.cv = cv\n",
    "\n",
    "    def test_models(self):\n",
    "        models = {\n",
    "            'SVM': SVC(),\n",
    "            'Gaussian Naive Bayes': GaussianNB(),\n",
    "            'Decision Tree': DecisionTreeClassifier(),\n",
    "            'Random Forest': RandomForestClassifier(),\n",
    "            'Logistic Regression': LogisticRegression()\n",
    "        }\n",
    "        \n",
    "        evaluation_metrics = ['accuracy', 'f1', 'precision', 'recall']\n",
    "        \n",
    "        results_dict = {}\n",
    "        \n",
    "        for model_name, model in models.items():\n",
    "            pipe = Pipeline([\n",
    "                ('scaler', StandardScaler()),\n",
    "                ('model', model)\n",
    "            ])\n",
    "            \n",
    "            param_grid = {}\n",
    "            \n",
    "            if model_name == 'SVM':\n",
    "                param_grid = {\n",
    "                    'model__C': [0.1, 1, 10],\n",
    "                    'model__kernel': ['linear', 'rbf', 'poly'],\n",
    "                    'model__degree': [2, 3, 4],\n",
    "                    'model__gamma': ['scale', 'auto']\n",
    "                }\n",
    "            elif model_name == 'Decision Tree':\n",
    "                param_grid = {\n",
    "                    'model__criterion': ['gini', 'entropy'],\n",
    "                    'model__max_depth': [2, 4, 6, 8, 10, 12],\n",
    "                    'model__min_samples_split': [2, 5, 10],\n",
    "                    'model__min_samples_leaf': [1, 2, 4]\n",
    "                }\n",
    "            elif model_name == 'Random Forest':\n",
    "                param_grid = {\n",
    "                    'model__n_estimators': [50, 100, 200],\n",
    "                    'model__criterion': ['gini', 'entropy'],\n",
    "                    'model__max_depth': [2, 4, 6, 8, 10, 12],\n",
    "                    'model__min_samples_split': [2, 5, 10],\n",
    "                    'model__min_samples_leaf': [1, 2, 4],\n",
    "                    'model__bootstrap': [True, False]\n",
    "                }\n",
    "            elif model_name == 'Logistic Regression':\n",
    "                param_grid = {\n",
    "                    'model__C': [0.1, 1, 10],\n",
    "                    'model__penalty': ['l1', 'l2'],\n",
    "                    'model__solver': ['liblinear']\n",
    "                }\n",
    "            else:\n",
    "                param_grid = {}\n",
    "        \n",
    "            search = GridSearchCV(pipe, param_grid, cv=self.cv, scoring='accuracy', n_jobs=-1)\n",
    "            search.fit(self.X_train, self.y_train)\n",
    "\n",
    "            print(f\"Best parameters for {model_name}:\")\n",
    "            print(search.best_params_)\n",
    "            print(f\"Best cross-validation score for {model_name}:\")\n",
    "            print(search.best_score_)\n",
    "            print('\\n')\n",
    "            \n",
    "            # evaluate each model\n",
    "            y_pred = search.best_estimator_.predict(self.X_train)\n",
    "            results = {}\n",
    "            for metric in evaluation_metrics:\n",
    "                if metric == 'accuracy':\n",
    "                    results[metric] = accuracy_score(self.y_train, y_pred)\n",
    "                elif metric == 'f1':\n",
    "                    results[metric] = f1_score(self.y_train, y_pred, average='macro')\n",
    "                elif metric == 'precision':\n",
    "                    results[metric] = precision_score(self.y_train, y_pred, average='macro')\n",
    "                elif metric == 'recall':\n",
    "                    results[metric] = recall_score(self.y_train, y_pred, average='macro')\n",
    "            \n",
    "             # add confusion matrix to results\n",
    "            conf_matrix = confusion_matrix(self.y_train, y_pred)\n",
    "            results['confusion_matrix'] = conf_matrix\n",
    "            \n",
    "            # save evaluation results for each model\n",
    "            results_dict[model_name] = results\n",
    "        \n",
    "        # create dataframe from results dictionary\n",
    "        df = pd.DataFrame.from_dict(results_dict, orient='index')\n",
    "        df.index.name = 'model_name'\n",
    "        \n",
    "        return df\n"
   ]
  },
  {
   "cell_type": "code",
   "execution_count": 220,
   "id": "7762803f-75d7-41a2-838f-bae158762bf2",
   "metadata": {},
   "outputs": [
    {
     "name": "stdout",
     "output_type": "stream",
     "text": [
      "Best parameters for SVM:\n",
      "{'model__C': 10, 'model__degree': 2, 'model__gamma': 'auto', 'model__kernel': 'rbf'}\n",
      "Best cross-validation score for SVM:\n",
      "0.9605209887384504\n",
      "\n",
      "\n",
      "Best parameters for Gaussian Naive Bayes:\n",
      "{}\n",
      "Best cross-validation score for Gaussian Naive Bayes:\n",
      "0.6843860702779078\n",
      "\n",
      "\n",
      "Best parameters for Decision Tree:\n",
      "{'model__criterion': 'gini', 'model__max_depth': 12, 'model__min_samples_leaf': 1, 'model__min_samples_split': 10}\n",
      "Best cross-validation score for Decision Tree:\n",
      "0.9419293225004874\n",
      "\n",
      "\n",
      "Best parameters for Random Forest:\n",
      "{'model__bootstrap': False, 'model__criterion': 'gini', 'model__max_depth': 12, 'model__min_samples_leaf': 1, 'model__min_samples_split': 5, 'model__n_estimators': 200}\n",
      "Best cross-validation score for Random Forest:\n",
      "0.9663168643290148\n",
      "\n",
      "\n",
      "Best parameters for Logistic Regression:\n",
      "{'model__C': 1, 'model__penalty': 'l2', 'model__solver': 'liblinear'}\n",
      "Best cross-validation score for Logistic Regression:\n",
      "0.9451012917343121\n",
      "\n",
      "\n",
      "             model_name  accuracy_score  f1_score  precision_score  \\\n",
      "0                   SVM        0.987861  0.987861         0.987865   \n",
      "1  Gaussian Naive Bayes        0.685258  0.657294         0.780173   \n",
      "2         Decision Tree        0.980315  0.980315         0.980331   \n",
      "3         Random Forest        0.993220  0.993220         0.993217   \n",
      "4   Logistic Regression        0.949038  0.949037         0.949046   \n",
      "\n",
      "   recall_score             confusion_matrix  \n",
      "0      0.987880     [[4506, 40], [71, 4527]]  \n",
      "1      0.686905  [[4439, 107], [2771, 1827]]  \n",
      "2      0.980340    [[4477, 69], [111, 4487]]  \n",
      "3      0.993233     [[4526, 20], [42, 4556]]  \n",
      "4      0.949058   [[4331, 215], [251, 4347]]  \n"
     ]
    }
   ],
   "source": [
    "model_tester = ModelTester(X_train, y_train)\n",
    "results_df = model_tester.test_models()\n",
    "\n",
    "# display the results for both models\n",
    "results_df.reset_index(inplace=True)\n",
    "results_df.rename(columns={'accuracy': 'accuracy_score',\n",
    "                           'f1': 'f1_score',\n",
    "                           'precision': 'precision_score',\n",
    "                           'recall': 'recall_score',\n",
    "                           'confusion_matrix': 'confusion_matrix'},\n",
    "                  inplace=True)\n",
    "results_df = results_df[['model_name', 'accuracy_score', 'f1_score', 'precision_score', 'recall_score', 'confusion_matrix']]\n",
    "print(results_df)"
   ]
  },
  {
   "cell_type": "code",
   "execution_count": 221,
   "id": "fec5e11b-b561-41aa-a926-01e9b36d75a7",
   "metadata": {},
   "outputs": [
    {
     "data": {
      "image/png": "[encoded data removed]",
      "text/plain": [
       "<Figure size 432x288 with 2 Axes>"
      ]
     },
     "metadata": {},
     "output_type": "display_data"
    }
   ],
   "source": [
    "# display only the results for the Decision Tree model\n",
    "dt_results_df = results_df.loc[results_df['model_name'] == 'SVM']\n",
    "conf_matrix = dt_results_df['confusion_matrix'].values[0]\n",
    "\n",
    "# create a heatmap with seaborn\n",
    "sns.heatmap(conf_matrix, annot=True, cmap='Blues', fmt='g')"
   ]
  },
  {
   "cell_type": "code",
   "execution_count": 222,
   "id": "3a7d0d3b-38d4-492a-8d08-1fe9af2312d7",
   "metadata": {},
   "outputs": [
    {
     "data": {
      "image/png": "[encoded data removed]",
      "text/plain": [
       "<Figure size 432x288 with 2 Axes>"
      ]
     },
     "metadata": {},
     "output_type": "display_data"
    }
   ],
   "source": [
    "# display only the results for the Decision Tree model\n",
    "dt_results_df = results_df.loc[results_df['model_name'] == 'Gaussian Naive Bayes']\n",
    "conf_matrix = dt_results_df['confusion_matrix'].values[0]\n",
    "\n",
    "# create a heatmap with seaborn\n",
    "sns.heatmap(conf_matrix, annot=True, cmap='Blues', fmt='g')"
   ]
  },
  {
   "cell_type": "code",
   "execution_count": 223,
   "id": "c3dd0685-47ee-4fc9-8c27-241ceebe4360",
   "metadata": {},
   "outputs": [
    {
     "data": {
      "image/png": "[encoded data removed]",
      "text/plain": [
       "<Figure size 432x288 with 2 Axes>"
      ]
     },
     "metadata": {},
     "output_type": "display_data"
    }
   ],
   "source": [
    "# display only the results for the Decision Tree model\n",
    "dt_results_df = results_df.loc[results_df['model_name'] == 'Decision Tree']\n",
    "conf_matrix = dt_results_df['confusion_matrix'].values[0]\n",
    "\n",
    "# create a heatmap with seaborn\n",
    "sns.heatmap(conf_matrix, annot=True, cmap='Blues', fmt='g')\n",
    "plt.savefig('Decision.png')"
   ]
  },
  {
   "cell_type": "code",
   "execution_count": 224,
   "id": "4d2d9388-f64b-496c-b63a-4842fbb2d674",
   "metadata": {},
   "outputs": [
    {
     "data": {
      "image/png": "[encoded data removed]",
      "text/plain": [
       "<Figure size 432x288 with 2 Axes>"
      ]
     },
     "metadata": {},
     "output_type": "display_data"
    }
   ],
   "source": [
    "# display only the results for the Decision Tree model\n",
    "dt_results_df = results_df.loc[results_df['model_name'] == 'Random Forest']\n",
    "conf_matrix = dt_results_df['confusion_matrix'].values[0]\n",
    "\n",
    "# create a heatmap with seaborn\n",
    "sns.heatmap(conf_matrix, annot=True, cmap='Blues', fmt='g')\n",
    "plt.savefig('Random.png')"
   ]
  },
  {
   "cell_type": "code",
   "execution_count": 225,
   "id": "8ce4929a-6bec-4f5c-a478-1cf60bb6ee52",
   "metadata": {},
   "outputs": [
    {
     "data": {
      "image/png": "[encoded data removed]",
      "text/plain": [
       "<Figure size 432x288 with 2 Axes>"
      ]
     },
     "metadata": {},
     "output_type": "display_data"
    }
   ],
   "source": [
    "# display only the results for the Decision Tree model\n",
    "dt_results_df = results_df.loc[results_df['model_name'] == 'Logistic Regression']\n",
    "conf_matrix = dt_results_df['confusion_matrix'].values[0]\n",
    "\n",
    "# create a heatmap with seaborn\n",
    "sns.heatmap(conf_matrix, annot=True, cmap='Blues', fmt='g')\n",
    "plt.savefig('Logistic.png')"
   ]
  },
  {
   "cell_type": "code",
   "execution_count": null,
   "id": "16f4cfbb-662d-45f8-b78f-19756446e585",
   "metadata": {},
   "outputs": [],
   "source": []
  },
  {
   "cell_type": "code",
   "execution_count": null,
   "id": "10d89b4d-f8fa-433b-8dc7-08b715126db6",
   "metadata": {},
   "outputs": [],
   "source": []
  },
  {
   "cell_type": "code",
   "execution_count": null,
   "id": "35559a45-d0d3-4aa6-8868-60218aff595c",
   "metadata": {},
   "outputs": [],
   "source": []
  },
  {
   "cell_type": "code",
   "execution_count": null,
   "id": "46374948-cc54-4cbb-bd8b-d5a198584a16",
   "metadata": {},
   "outputs": [],
   "source": []
  },
  {
   "cell_type": "code",
   "execution_count": null,
   "id": "02f6750e-1cca-4b1b-a8e2-8fb1c64e3ede",
   "metadata": {},
   "outputs": [],
   "source": []
  },
  {
   "cell_type": "code",
   "execution_count": null,
   "id": "54e26d14-247a-4357-af09-a0981f317455",
   "metadata": {},
   "outputs": [],
   "source": []
  },
  {
   "cell_type": "code",
   "execution_count": null,
   "id": "fe8c0d91-bce4-4298-961c-d99172287031",
   "metadata": {},
   "outputs": [],
   "source": []
  },
  {
   "cell_type": "code",
   "execution_count": null,
   "id": "e0b8f6a6-c79e-4fe8-addb-51fa76bf252c",
   "metadata": {},
   "outputs": [],
   "source": []
  },
  {
   "cell_type": "code",
   "execution_count": null,
   "id": "7fc194d9-b801-47df-bc2e-2e63d40e32e9",
   "metadata": {},
   "outputs": [],
   "source": []
  },
  {
   "cell_type": "code",
   "execution_count": null,
   "id": "b1ff6b37-3251-466f-a895-972447bca0a3",
   "metadata": {},
   "outputs": [],
   "source": []
  }
 ],
 "metadata": {
  "kernelspec": {
   "display_name": "Python 3 (ipykernel)",
   "language": "python",
   "name": "python3"
  },
  "language_info": {
   "codemirror_mode": {
    "name": "ipython",
    "version": 3
   },
   "file_extension": ".py",
   "mimetype": "text/x-python",
   "name": "python",
   "nbconvert_exporter": "python",
   "pygments_lexer": "ipython3",
   "version": "3.9.12"
  }
 },
 "nbformat": 4,
 "nbformat_minor": 5
}
