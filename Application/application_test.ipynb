{
 "cells": [
  {
   "cell_type": "code",
   "execution_count": 1,
   "id": "227c2ebb-a164-4451-81c1-52452b81c717",
   "metadata": {},
   "outputs": [],
   "source": [
    "# run this in case you don't have this library installed\n",
    "#!pip install import-ipynb "
   ]
  },
  {
   "cell_type": "code",
   "execution_count": 2,
   "id": "0e4e799d-d03b-4679-abf3-28056e69d91e",
   "metadata": {},
   "outputs": [],
   "source": [
    "# in case that the page_rank is not working \n",
    "# go to this \"https://www.domcop.com/openpagerank/\" and create an account to get the API"
   ]
  },
  {
   "cell_type": "code",
   "execution_count": 11,
   "id": "34c1dc6e-2f57-4f0e-8aa1-65b77ac8b3f1",
   "metadata": {},
   "outputs": [],
   "source": [
    "import import_ipynb\n",
    "from extract import URLFeatureExtractor\n",
    "import numpy as np\n",
    "import joblib\n",
    "from sklearn.preprocessing import StandardScaler"
   ]
  },
  {
   "cell_type": "code",
   "execution_count": 12,
   "id": "e603d3e4-6efd-46c9-a864-4598f3a36ea4",
   "metadata": {},
   "outputs": [],
   "source": [
    "# load the SVM model\n",
    "rf_model = joblib.load('RF.joblib')"
   ]
  },
  {
   "cell_type": "code",
   "execution_count": 13,
   "id": "a6a80215-685a-4f1c-b97b-c099f8a77f99",
   "metadata": {},
   "outputs": [],
   "source": [
    "# Load the Scaler from the model\n",
    "scaler = joblib.load('scaler.joblib')"
   ]
  },
  {
   "cell_type": "code",
   "execution_count": 14,
   "id": "d012046a-6d9f-4a8d-b451-492aec13681b",
   "metadata": {},
   "outputs": [],
   "source": [
    "# Call the get_url_features method to extract features from the new URL\n",
    "new_url = 'http://www.crestonwood.com/router.php'\n",
    "features = URLFeatureExtractor(new_url).get_url_features()"
   ]
  },
  {
   "cell_type": "code",
   "execution_count": 18,
   "id": "ec23527b-a113-4076-b23d-1a308f05555f",
   "metadata": {},
   "outputs": [],
   "source": []
  },
  {
   "cell_type": "code",
   "execution_count": 19,
   "id": "38a4a54a-4ffc-47f8-a6d4-12b0d9a63e16",
   "metadata": {},
   "outputs": [],
   "source": [
    "features_array = np.array(list(features.values())).reshape(1, -1)\n",
    "features_array_ = np.array(array).reshape(1, -1)"
   ]
  },
  {
   "cell_type": "code",
   "execution_count": 20,
   "id": "8adc41f6-331a-4376-9c93-24868e57756a",
   "metadata": {},
   "outputs": [
    {
     "name": "stderr",
     "output_type": "stream",
     "text": [
      "C:\\Users\\pedro\\anaconda3\\lib\\site-packages\\sklearn\\base.py:450: UserWarning: X does not have valid feature names, but StandardScaler was fitted with feature names\n",
      "  warnings.warn(\n"
     ]
    }
   ],
   "source": [
    "scaled_data = scaler.transform(features_array_)"
   ]
  },
  {
   "cell_type": "code",
   "execution_count": 21,
   "id": "2fec6110-b7c2-428c-801a-ad7adfd0a094",
   "metadata": {},
   "outputs": [
    {
     "name": "stdout",
     "output_type": "stream",
     "text": [
      "The URL is phishing.\n",
      "[1]\n"
     ]
    },
    {
     "name": "stderr",
     "output_type": "stream",
     "text": [
      "C:\\Users\\pedro\\anaconda3\\lib\\site-packages\\sklearn\\base.py:450: UserWarning: X does not have valid feature names, but StandardScaler was fitted with feature names\n",
      "  warnings.warn(\n"
     ]
    }
   ],
   "source": [
    "prediction = rf_model.predict(scaled_data)\n",
    "\n",
    "if prediction[0] == 0:\n",
    "    print('The URL is legitimate.')\n",
    "else:\n",
    "    print('The URL is phishing.')\n",
    "    \n",
    "print(prediction)"
   ]
  },
  {
   "cell_type": "code",
   "execution_count": null,
   "id": "88da868d-c45e-4d13-97e3-ece80ab6be52",
   "metadata": {},
   "outputs": [],
   "source": []
  }
 ],
 "metadata": {
  "kernelspec": {
   "display_name": "Python 3 (ipykernel)",
   "language": "python",
   "name": "python3"
  },
  "language_info": {
   "codemirror_mode": {
    "name": "ipython",
    "version": 3
   },
   "file_extension": ".py",
   "mimetype": "text/x-python",
   "name": "python",
   "nbconvert_exporter": "python",
   "pygments_lexer": "ipython3",
   "version": "3.9.12"
  }
 },
 "nbformat": 4,
 "nbformat_minor": 5
}
